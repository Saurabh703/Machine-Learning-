{
  "cells": [
    {
      "cell_type": "markdown",
      "metadata": {
        "id": "view-in-github",
        "colab_type": "text"
      },
      "source": [
        "<a href=\"https://colab.research.google.com/github/Saurabh703/Machine-Learning-/blob/main/Logistic_Regression_(Binary_Classification).ipynb\" target=\"_parent\"><img src=\"https://colab.research.google.com/assets/colab-badge.svg\" alt=\"Open In Colab\"/></a>"
      ]
    },
    {
      "cell_type": "markdown",
      "id": "be82286a",
      "metadata": {
        "id": "be82286a"
      },
      "source": [
        "#### Predicting if a person would buy life insurance based on his age using logistic regression"
      ]
    },
    {
      "cell_type": "code",
      "execution_count": null,
      "id": "b7f9a055",
      "metadata": {
        "id": "b7f9a055"
      },
      "outputs": [],
      "source": [
        "import pandas as pd\n",
        "from matplotlib import pyplot as plt\n",
        "%matplotlib inline"
      ]
    },
    {
      "cell_type": "code",
      "execution_count": null,
      "id": "591eb627",
      "metadata": {
        "id": "591eb627",
        "outputId": "553c5389-a45d-43c1-ae13-eb779f17e551"
      },
      "outputs": [
        {
          "data": {
            "text/html": [
              "<div>\n",
              "<style scoped>\n",
              "    .dataframe tbody tr th:only-of-type {\n",
              "        vertical-align: middle;\n",
              "    }\n",
              "\n",
              "    .dataframe tbody tr th {\n",
              "        vertical-align: top;\n",
              "    }\n",
              "\n",
              "    .dataframe thead th {\n",
              "        text-align: right;\n",
              "    }\n",
              "</style>\n",
              "<table border=\"1\" class=\"dataframe\">\n",
              "  <thead>\n",
              "    <tr style=\"text-align: right;\">\n",
              "      <th></th>\n",
              "      <th>age</th>\n",
              "      <th>bought_insurance</th>\n",
              "    </tr>\n",
              "  </thead>\n",
              "  <tbody>\n",
              "    <tr>\n",
              "      <th>0</th>\n",
              "      <td>22</td>\n",
              "      <td>0</td>\n",
              "    </tr>\n",
              "    <tr>\n",
              "      <th>1</th>\n",
              "      <td>25</td>\n",
              "      <td>0</td>\n",
              "    </tr>\n",
              "    <tr>\n",
              "      <th>2</th>\n",
              "      <td>47</td>\n",
              "      <td>1</td>\n",
              "    </tr>\n",
              "    <tr>\n",
              "      <th>3</th>\n",
              "      <td>52</td>\n",
              "      <td>0</td>\n",
              "    </tr>\n",
              "    <tr>\n",
              "      <th>4</th>\n",
              "      <td>46</td>\n",
              "      <td>1</td>\n",
              "    </tr>\n",
              "  </tbody>\n",
              "</table>\n",
              "</div>"
            ],
            "text/plain": [
              "   age  bought_insurance\n",
              "0   22                 0\n",
              "1   25                 0\n",
              "2   47                 1\n",
              "3   52                 0\n",
              "4   46                 1"
            ]
          },
          "execution_count": 2,
          "metadata": {},
          "output_type": "execute_result"
        }
      ],
      "source": [
        "df = pd.read_csv(\"insurance_data.csv\")\n",
        "df.head()"
      ]
    },
    {
      "cell_type": "code",
      "execution_count": null,
      "id": "dd374b74",
      "metadata": {
        "id": "dd374b74",
        "outputId": "ef498762-bdc7-4528-b70f-b5405fae93e9"
      },
      "outputs": [
        {
          "data": {
            "text/plain": [
              "<matplotlib.collections.PathCollection at 0x18030e185b0>"
            ]
          },
          "execution_count": 3,
          "metadata": {},
          "output_type": "execute_result"
        },
        {
          "data": {
            "image/png": "[encoded data removed]",
            "text/plain": [
              "<Figure size 432x288 with 1 Axes>"
            ]
          },
          "metadata": {
            "needs_background": "light"
          },
          "output_type": "display_data"
        }
      ],
      "source": [
        "plt.scatter(df.age, df.bought_insurance, marker='+', color='red')"
      ]
    },
    {
      "cell_type": "code",
      "execution_count": null,
      "id": "d1763f1f",
      "metadata": {
        "id": "d1763f1f"
      },
      "outputs": [],
      "source": [
        "from sklearn.model_selection import train_test_split"
      ]
    },
    {
      "cell_type": "code",
      "execution_count": null,
      "id": "e49e8651",
      "metadata": {
        "id": "e49e8651"
      },
      "outputs": [],
      "source": [
        "X_train, X_test, y_train, y_test = train_test_split(df[['age']],df.bought_insurance, train_size=0.1)"
      ]
    },
    {
      "cell_type": "code",
      "execution_count": null,
      "id": "46a11a0a",
      "metadata": {
        "id": "46a11a0a",
        "outputId": "054c094b-452b-4388-dc69-33ad650097fa"
      },
      "outputs": [
        {
          "data": {
            "text/html": [
              "<div>\n",
              "<style scoped>\n",
              "    .dataframe tbody tr th:only-of-type {\n",
              "        vertical-align: middle;\n",
              "    }\n",
              "\n",
              "    .dataframe tbody tr th {\n",
              "        vertical-align: top;\n",
              "    }\n",
              "\n",
              "    .dataframe thead th {\n",
              "        text-align: right;\n",
              "    }\n",
              "</style>\n",
              "<table border=\"1\" class=\"dataframe\">\n",
              "  <thead>\n",
              "    <tr style=\"text-align: right;\">\n",
              "      <th></th>\n",
              "      <th>age</th>\n",
              "    </tr>\n",
              "  </thead>\n",
              "  <tbody>\n",
              "    <tr>\n",
              "      <th>16</th>\n",
              "      <td>25</td>\n",
              "    </tr>\n",
              "    <tr>\n",
              "      <th>24</th>\n",
              "      <td>50</td>\n",
              "    </tr>\n",
              "    <tr>\n",
              "      <th>10</th>\n",
              "      <td>18</td>\n",
              "    </tr>\n",
              "    <tr>\n",
              "      <th>4</th>\n",
              "      <td>46</td>\n",
              "    </tr>\n",
              "    <tr>\n",
              "      <th>11</th>\n",
              "      <td>28</td>\n",
              "    </tr>\n",
              "    <tr>\n",
              "      <th>19</th>\n",
              "      <td>18</td>\n",
              "    </tr>\n",
              "    <tr>\n",
              "      <th>2</th>\n",
              "      <td>47</td>\n",
              "    </tr>\n",
              "    <tr>\n",
              "      <th>9</th>\n",
              "      <td>61</td>\n",
              "    </tr>\n",
              "    <tr>\n",
              "      <th>7</th>\n",
              "      <td>60</td>\n",
              "    </tr>\n",
              "    <tr>\n",
              "      <th>8</th>\n",
              "      <td>62</td>\n",
              "    </tr>\n",
              "    <tr>\n",
              "      <th>22</th>\n",
              "      <td>40</td>\n",
              "    </tr>\n",
              "    <tr>\n",
              "      <th>21</th>\n",
              "      <td>26</td>\n",
              "    </tr>\n",
              "    <tr>\n",
              "      <th>26</th>\n",
              "      <td>23</td>\n",
              "    </tr>\n",
              "    <tr>\n",
              "      <th>5</th>\n",
              "      <td>56</td>\n",
              "    </tr>\n",
              "    <tr>\n",
              "      <th>25</th>\n",
              "      <td>54</td>\n",
              "    </tr>\n",
              "    <tr>\n",
              "      <th>20</th>\n",
              "      <td>21</td>\n",
              "    </tr>\n",
              "    <tr>\n",
              "      <th>14</th>\n",
              "      <td>49</td>\n",
              "    </tr>\n",
              "    <tr>\n",
              "      <th>18</th>\n",
              "      <td>19</td>\n",
              "    </tr>\n",
              "    <tr>\n",
              "      <th>6</th>\n",
              "      <td>55</td>\n",
              "    </tr>\n",
              "    <tr>\n",
              "      <th>15</th>\n",
              "      <td>55</td>\n",
              "    </tr>\n",
              "    <tr>\n",
              "      <th>1</th>\n",
              "      <td>25</td>\n",
              "    </tr>\n",
              "    <tr>\n",
              "      <th>12</th>\n",
              "      <td>27</td>\n",
              "    </tr>\n",
              "    <tr>\n",
              "      <th>23</th>\n",
              "      <td>45</td>\n",
              "    </tr>\n",
              "    <tr>\n",
              "      <th>3</th>\n",
              "      <td>52</td>\n",
              "    </tr>\n",
              "    <tr>\n",
              "      <th>0</th>\n",
              "      <td>22</td>\n",
              "    </tr>\n",
              "  </tbody>\n",
              "</table>\n",
              "</div>"
            ],
            "text/plain": [
              "    age\n",
              "16   25\n",
              "24   50\n",
              "10   18\n",
              "4    46\n",
              "11   28\n",
              "19   18\n",
              "2    47\n",
              "9    61\n",
              "7    60\n",
              "8    62\n",
              "22   40\n",
              "21   26\n",
              "26   23\n",
              "5    56\n",
              "25   54\n",
              "20   21\n",
              "14   49\n",
              "18   19\n",
              "6    55\n",
              "15   55\n",
              "1    25\n",
              "12   27\n",
              "23   45\n",
              "3    52\n",
              "0    22"
            ]
          },
          "execution_count": 8,
          "metadata": {},
          "output_type": "execute_result"
        }
      ],
      "source": [
        "X_test"
      ]
    },
    {
      "cell_type": "code",
      "execution_count": null,
      "id": "961cf554",
      "metadata": {
        "id": "961cf554"
      },
      "outputs": [],
      "source": [
        "from sklearn.linear_model import LogisticRegression"
      ]
    },
    {
      "cell_type": "code",
      "execution_count": null,
      "id": "36e7644e",
      "metadata": {
        "id": "36e7644e"
      },
      "outputs": [],
      "source": [
        "model = LogisticRegression()"
      ]
    },
    {
      "cell_type": "code",
      "execution_count": null,
      "id": "f7d773ce",
      "metadata": {
        "id": "f7d773ce",
        "outputId": "95ed7abd-1895-40d3-d18f-80716049aeb1"
      },
      "outputs": [
        {
          "data": {
            "text/plain": [
              "LogisticRegression()"
            ]
          },
          "execution_count": 12,
          "metadata": {},
          "output_type": "execute_result"
        }
      ],
      "source": [
        "model.fit(X_train,y_train)"
      ]
    },
    {
      "cell_type": "code",
      "execution_count": null,
      "id": "27ed5626",
      "metadata": {
        "id": "27ed5626"
      },
      "outputs": [],
      "source": [
        "y_predicted = model.predict(X_test)"
      ]
    },
    {
      "cell_type": "code",
      "execution_count": null,
      "id": "057c71c2",
      "metadata": {
        "id": "057c71c2",
        "outputId": "26d19044-d8c4-4724-9bd8-3b524aa6b69f"
      },
      "outputs": [
        {
          "data": {
            "text/plain": [
              "0.84"
            ]
          },
          "execution_count": 14,
          "metadata": {},
          "output_type": "execute_result"
        }
      ],
      "source": [
        "model.score(X_test,y_test)"
      ]
    },
    {
      "cell_type": "code",
      "execution_count": null,
      "id": "97587235",
      "metadata": {
        "id": "97587235",
        "outputId": "cff668de-9d0c-4e29-81f0-b0cb0b0f1e9f"
      },
      "outputs": [
        {
          "data": {
            "text/plain": [
              "array([[9.96892302e-01, 3.10769832e-03],\n",
              "       [1.16389067e-01, 8.83610933e-01],\n",
              "       [9.99648923e-01, 3.51076528e-04],\n",
              "       [3.14444028e-01, 6.85555972e-01],\n",
              "       [9.92116118e-01, 7.88388190e-03],\n",
              "       [9.99648923e-01, 3.51076528e-04],\n",
              "       [2.51366483e-01, 7.48633517e-01],\n",
              "       [4.24344558e-03, 9.95756554e-01],\n",
              "       [5.78771211e-03, 9.94212288e-01],\n",
              "       [3.10992849e-03, 9.96890072e-01],\n",
              "       [7.48768909e-01, 2.51231091e-01],\n",
              "       [9.95759594e-01, 4.24040601e-03],\n",
              "       [9.98332211e-01, 1.66778872e-03],\n",
              "       [1.98683379e-02, 9.80131662e-01],\n",
              "       [3.64482617e-02, 9.63551738e-01],\n",
              "       [9.99105557e-01, 8.94442981e-04],\n",
              "       [1.52495031e-01, 8.47504969e-01],\n",
              "       [9.99520478e-01, 4.79521760e-04],\n",
              "       [2.69449186e-02, 9.73055081e-01],\n",
              "       [2.69449186e-02, 9.73055081e-01],\n",
              "       [9.96892302e-01, 3.10769832e-03],\n",
              "       [9.94216427e-01, 5.78357282e-03],\n",
              "       [3.85205640e-01, 6.14794360e-01],\n",
              "       [6.59332321e-02, 9.34066768e-01],\n",
              "       [9.98778558e-01, 1.22144194e-03]])"
            ]
          },
          "execution_count": 15,
          "metadata": {},
          "output_type": "execute_result"
        }
      ],
      "source": [
        "model.predict_proba(X_test)"
      ]
    },
    {
      "cell_type": "code",
      "execution_count": null,
      "id": "bf146395",
      "metadata": {
        "id": "bf146395",
        "outputId": "97ed8578-389f-4316-ad39-fb8c783afe59"
      },
      "outputs": [
        {
          "data": {
            "text/plain": [
              "array([0], dtype=int64)"
            ]
          },
          "execution_count": 17,
          "metadata": {},
          "output_type": "execute_result"
        }
      ],
      "source": [
        "model.predict([[25]])"
      ]
    },
    {
      "cell_type": "code",
      "execution_count": null,
      "id": "3b1ca594",
      "metadata": {
        "id": "3b1ca594",
        "outputId": "c3de3686-00fc-4604-ff2d-fd44933d6978"
      },
      "outputs": [
        {
          "data": {
            "text/plain": [
              "array([[0.31191354]])"
            ]
          },
          "execution_count": 19,
          "metadata": {},
          "output_type": "execute_result"
        }
      ],
      "source": [
        "model.coef_"
      ]
    },
    {
      "cell_type": "code",
      "execution_count": null,
      "id": "ded8a51a",
      "metadata": {
        "id": "ded8a51a",
        "outputId": "0e0f62dc-b40e-4b37-e0ba-d31c8dc3f79e"
      },
      "outputs": [
        {
          "data": {
            "text/plain": [
              "array([-13.568599])"
            ]
          },
          "execution_count": 20,
          "metadata": {},
          "output_type": "execute_result"
        }
      ],
      "source": [
        "model.intercept_"
      ]
    },
    {
      "cell_type": "code",
      "execution_count": null,
      "id": "5545e201",
      "metadata": {
        "id": "5545e201"
      },
      "outputs": [],
      "source": [
        "import math\n",
        "def sigmoid(x):\n",
        "    return 1 / (1 + math.exp(-x))"
      ]
    },
    {
      "cell_type": "code",
      "execution_count": null,
      "id": "c9cdae89",
      "metadata": {
        "id": "c9cdae89"
      },
      "outputs": [],
      "source": [
        "def prediction_function(age):\n",
        "    z = 0.042 * age - 1.53\n",
        "    y = sigmoid(z)\n",
        "    return y"
      ]
    },
    {
      "cell_type": "code",
      "execution_count": null,
      "id": "3570aedb",
      "metadata": {
        "id": "3570aedb",
        "outputId": "d9b8a543-6116-48fc-8e03-1756d7f8c862"
      },
      "outputs": [
        {
          "data": {
            "text/plain": [
              "0.4850044983805899"
            ]
          },
          "execution_count": 28,
          "metadata": {},
          "output_type": "execute_result"
        }
      ],
      "source": [
        "age = 35\n",
        "prediction_function(age)"
      ]
    },
    {
      "cell_type": "code",
      "execution_count": null,
      "id": "54e5a1f4",
      "metadata": {
        "id": "54e5a1f4",
        "outputId": "207d4f5f-4747-4871-a14b-a53d74870170"
      },
      "outputs": [
        {
          "data": {
            "text/plain": [
              "0.568565299077705"
            ]
          },
          "execution_count": 30,
          "metadata": {},
          "output_type": "execute_result"
        }
      ],
      "source": [
        "age = 43\n",
        "prediction_function(age)"
      ]
    },
    {
      "cell_type": "code",
      "execution_count": null,
      "id": "b974ef5c",
      "metadata": {
        "id": "b974ef5c"
      },
      "outputs": [],
      "source": []
    }
  ],
  "metadata": {
    "kernelspec": {
      "display_name": "Python 3",
      "language": "python",
      "name": "python3"
    },
    "language_info": {
      "codemirror_mode": {
        "name": "ipython",
        "version": 3
      },
      "file_extension": ".py",
      "mimetype": "text/x-python",
      "name": "python",
      "nbconvert_exporter": "python",
      "pygments_lexer": "ipython3",
      "version": "3.8.8"
    },
    "colab": {
      "provenance": [],
      "include_colab_link": true
    }
  },
  "nbformat": 4,
  "nbformat_minor": 5
}