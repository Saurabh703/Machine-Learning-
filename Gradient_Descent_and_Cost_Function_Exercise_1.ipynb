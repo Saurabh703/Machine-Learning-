{
  "cells": [
    {
      "cell_type": "markdown",
      "metadata": {
        "id": "view-in-github",
        "colab_type": "text"
      },
      "source": [
        "<a href=\"https://colab.research.google.com/github/Saurabh703/Machine-Learning-/blob/main/Gradient_Descent_and_Cost_Function_Exercise_1.ipynb\" target=\"_parent\"><img src=\"https://colab.research.google.com/assets/colab-badge.svg\" alt=\"Open In Colab\"/></a>"
      ]
    },
    {
      "cell_type": "code",
      "execution_count": null,
      "id": "83c7ae18",
      "metadata": {
        "id": "83c7ae18"
      },
      "outputs": [],
      "source": [
        "import pandas as pd\n",
        "import numpy as np\n",
        "from sklearn.linear_model import LinearRegression\n",
        "import math"
      ]
    },
    {
      "cell_type": "code",
      "execution_count": null,
      "id": "ab818610",
      "metadata": {
        "id": "ab818610",
        "outputId": "966e07c0-ec58-48f0-9249-cf74e816c56c"
      },
      "outputs": [
        {
          "data": {
            "text/html": [
              "<div>\n",
              "<style scoped>\n",
              "    .dataframe tbody tr th:only-of-type {\n",
              "        vertical-align: middle;\n",
              "    }\n",
              "\n",
              "    .dataframe tbody tr th {\n",
              "        vertical-align: top;\n",
              "    }\n",
              "\n",
              "    .dataframe thead th {\n",
              "        text-align: right;\n",
              "    }\n",
              "</style>\n",
              "<table border=\"1\" class=\"dataframe\">\n",
              "  <thead>\n",
              "    <tr style=\"text-align: right;\">\n",
              "      <th></th>\n",
              "      <th>name</th>\n",
              "      <th>math</th>\n",
              "      <th>cs</th>\n",
              "    </tr>\n",
              "  </thead>\n",
              "  <tbody>\n",
              "    <tr>\n",
              "      <th>0</th>\n",
              "      <td>david</td>\n",
              "      <td>92</td>\n",
              "      <td>98</td>\n",
              "    </tr>\n",
              "    <tr>\n",
              "      <th>1</th>\n",
              "      <td>laura</td>\n",
              "      <td>56</td>\n",
              "      <td>68</td>\n",
              "    </tr>\n",
              "    <tr>\n",
              "      <th>2</th>\n",
              "      <td>sanjay</td>\n",
              "      <td>88</td>\n",
              "      <td>81</td>\n",
              "    </tr>\n",
              "    <tr>\n",
              "      <th>3</th>\n",
              "      <td>wei</td>\n",
              "      <td>70</td>\n",
              "      <td>80</td>\n",
              "    </tr>\n",
              "    <tr>\n",
              "      <th>4</th>\n",
              "      <td>jeff</td>\n",
              "      <td>80</td>\n",
              "      <td>83</td>\n",
              "    </tr>\n",
              "    <tr>\n",
              "      <th>5</th>\n",
              "      <td>aamir</td>\n",
              "      <td>49</td>\n",
              "      <td>52</td>\n",
              "    </tr>\n",
              "    <tr>\n",
              "      <th>6</th>\n",
              "      <td>venkat</td>\n",
              "      <td>65</td>\n",
              "      <td>66</td>\n",
              "    </tr>\n",
              "    <tr>\n",
              "      <th>7</th>\n",
              "      <td>virat</td>\n",
              "      <td>35</td>\n",
              "      <td>30</td>\n",
              "    </tr>\n",
              "    <tr>\n",
              "      <th>8</th>\n",
              "      <td>arthur</td>\n",
              "      <td>66</td>\n",
              "      <td>68</td>\n",
              "    </tr>\n",
              "    <tr>\n",
              "      <th>9</th>\n",
              "      <td>paul</td>\n",
              "      <td>67</td>\n",
              "      <td>73</td>\n",
              "    </tr>\n",
              "  </tbody>\n",
              "</table>\n",
              "</div>"
            ],
            "text/plain": [
              "     name  math  cs\n",
              "0   david    92  98\n",
              "1   laura    56  68\n",
              "2  sanjay    88  81\n",
              "3     wei    70  80\n",
              "4    jeff    80  83\n",
              "5   aamir    49  52\n",
              "6  venkat    65  66\n",
              "7   virat    35  30\n",
              "8  arthur    66  68\n",
              "9    paul    67  73"
            ]
          },
          "execution_count": 157,
          "metadata": {},
          "output_type": "execute_result"
        }
      ],
      "source": [
        "df = pd.read_csv('test_scores.csv')\n",
        "df"
      ]
    },
    {
      "cell_type": "code",
      "execution_count": null,
      "id": "492c0d88",
      "metadata": {
        "id": "492c0d88"
      },
      "outputs": [],
      "source": [
        "def predict_sklearn():\n",
        "    r = LinearRegression()\n",
        "    r.fit(df[['math']],df.cs)\n",
        "    return r.coef_,r.intercept_\n",
        "\n",
        "def gradient_descent(x,y):\n",
        "    m_curr = b_curr = 0\n",
        "    iterations = 70\n",
        "    n = len(x)\n",
        "    learning_rate = 0.0002\n",
        "    previ_cost = 0\n",
        "    for i in range(iterations):\n",
        "        y_predicted = m_curr * x + b_curr\n",
        "        cost = (1/n) * sum([val**2 for val in (y - y_predicted)])\n",
        "        md = -(2/n) * sum(x*(y-y_predicted))\n",
        "        bd = -(2/n) * sum(y-y_predicted)\n",
        "        m_curr = m_curr - learning_rate * md\n",
        "        b_curr = b_curr - learning_rate * bd\n",
        "        if math.isclose(cost,previ_cost, rel_tol=1e-20):\n",
        "            break\n",
        "        previ_cost = cost\n",
        "        print (\"m {}, b {}, cost {} iteration {}\".format(m_curr,b_curr,cost, i))\n",
        "    return m_curr, b_curr"
      ]
    },
    {
      "cell_type": "code",
      "execution_count": null,
      "id": "29c5dd6e",
      "metadata": {
        "id": "29c5dd6e"
      },
      "outputs": [],
      "source": [
        "x =  df.math\n",
        "y = df.cs"
      ]
    },
    {
      "cell_type": "code",
      "execution_count": null,
      "id": "bcd3fa8d",
      "metadata": {
        "id": "bcd3fa8d",
        "outputId": "52263b9c-d3b8-48b6-dbdd-67d8f7e96873"
      },
      "outputs": [
        {
          "name": "stdout",
          "output_type": "stream",
          "text": [
            "m 1.9783600000000003, b 0.027960000000000002, cost 5199.1 iteration 0\n",
            "m 0.20975041279999962, b 0.0030470367999999894, cost 4161.482445460163 iteration 1\n",
            "m 1.7908456142986242, b 0.025401286955264, cost 3332.2237319269248 iteration 2\n",
            "m 0.37738163667530467, b 0.005499731626422651, cost 2669.4843523161976 iteration 3\n",
            "m 1.6409848166378898, b 0.023373894401807944, cost 2139.826383775145 iteration 4\n",
            "m 0.5113514173939655, b 0.0074774305434828076, cost 1716.5264071567592 iteration 5\n",
            "m 1.5212165764726306, b 0.021771129698498662, cost 1378.2272007804495 iteration 6\n",
            "m 0.6184191426785134, b 0.009075514323270572, cost 1107.8601808918404 iteration 7\n",
            "m 1.4254981563597626, b 0.020507724625171385, cost 891.7842215178443 iteration 8\n",
            "m 0.7039868810749315, b 0.010370210797388455, cost 719.0974036421305 iteration 9\n",
            "m 1.3490002310389348, b 0.01951553325074733, cost 581.0869686205 iteration 10\n",
            "m 0.7723719384951477, b 0.01142244086408669, cost 470.7897237271261 iteration 11\n",
            "m 1.2878632281408475, b 0.018740093691150705, cost 382.6407204862143 iteration 12\n",
            "m 0.8270246840299113, b 0.012280892197750798, cost 312.1924801681589 iteration 13\n",
            "m 1.2390025969113474, b 0.01813788028359247, cost 255.89060022344475 iteration 14\n",
            "m 0.8707026352388424, b 0.012984475742007832, cost 210.89442007737276 iteration 15\n",
            "m 1.1999531799587442, b 0.01767410753812916, cost 174.93369813849728 iteration 16\n",
            "m 0.9056095862354473, b 0.013564288926616264, cost 146.19406878727372 iteration 17\n",
            "m 1.168744835939885, b 0.017320975066834464, cost 123.2255001796068 iteration 18\n",
            "m 0.9335067981503328, b 0.014045184660493999, cost 104.86913418555842 iteration 19\n",
            "m 1.1438030378387343, b 0.017056264940052912, cost 90.1988172376793 iteration 20\n",
            "m 0.9558018619881088, b 0.014447025263025912, cost 78.4743720801518 iteration 21\n",
            "m 1.123869431612398, b 0.016862220700598438, cost 69.10425278659366 iteration 22\n",
            "m 0.9736197173740411, b 0.014785684599634922, cost 61.61569883880534 iteration 23\n",
            "m 1.1079383470620547, b 0.016724651477560692, cost 55.63088241716976 iteration 24\n",
            "m 0.9878594103778675, b 0.015073848983471565, cost 50.84784543555072 iteration 25\n",
            "m 1.0952060576414993, b 0.016632215998581557, cost 47.02526451581355 iteration 26\n",
            "m 0.9992394540800741, b 0.015321657252001263, cost 43.970275232370476 iteration 27\n",
            "m 1.0850302291522722, b 0.01657585037608088, cost 41.528741309884765 iteration 28\n",
            "m 1.0083340805074807, b 0.015537212312981736, cost 39.57747781519814 iteration 29\n",
            "m 1.0768975113455124, b 0.01654831079689666, cost 38.01803597157669 iteration 30\n",
            "m 1.0156022129971571, b 0.01572698996942581, cost 36.77173601363096 iteration 31\n",
            "m 1.0703976372937574, b 0.016543808042154003, cost 35.775697470042715 iteration 32\n",
            "m 1.0214106207634122, b 0.015896165650447946, cost 34.97966658555935 iteration 33\n",
            "m 1.0652027237396349, b 0.016557715397389393, cost 34.34348081266759 iteration 34\n",
            "m 1.0260524239108442, b 0.016048875532907396, cost 33.83504244613808 iteration 35\n",
            "m 1.0610507280390304, b 0.01658633521579648, cost 33.42869916198312 iteration 36\n",
            "m 1.0297618825473565, b 0.016188425228507268, cost 33.103949752366304 iteration 37\n",
            "m 1.0577322270335765, b 0.0166267123567505, cost 32.84440975547639 iteration 38\n",
            "m 1.0327262161686235, b 0.016317456565470633, cost 32.636984792143764 iteration 39\n",
            "m 1.0550798507922887, b 0.016676485086818824, cost 32.47120990063734 iteration 40\n",
            "m 1.035095049650491, b 0.016438080879614143, cost 32.33872153636954 iteration 41\n",
            "m 1.052959838111218, b 0.01673376592060118, cost 32.23283559672576 iteration 42\n",
            "m 1.036987962438417, b 0.016551985539901195, cost 32.14821018063812 iteration 43\n",
            "m 1.0512652877114044, b 0.01679704638933073, cost 32.08057606773955 iteration 44\n",
            "m 1.0385005218215662, b 0.016660519083126275, cost 32.02652131866401 iteration 45\n",
            "m 1.0499107646303472, b 0.016865120932420777, cost 31.983319128693804 iteration 46\n",
            "m 1.0397091046950075, b 0.01676475925312493, cost 31.94879024926364 iteration 47\n",
            "m 1.0488279896772978, b 0.01693702607197308, cost 31.921193035921274 iteration 48\n",
            "m 1.0406747510877237, b 0.016865567377366896, cost 31.899135575212195 iteration 49\n",
            "m 1.047962394467687, b 0.017011991801351975, cost 31.881505456930224 iteration 50\n",
            "m 1.0414462438827428, b 0.016963631824454838, cost 31.86741364845402 iteration 51\n",
            "m 1.0472703682240316, b 0.01708940273517817, cost 31.85614963940047 iteration 52\n",
            "m 1.0420625701139212, b 0.017059502735137972, cost 31.847145593458148 iteration 53\n",
            "m 1.046717057433117, b 0.017168767060599943, cost 31.839947698713402 iteration 54\n",
            "m 1.0425548880219075, b 0.017153619779162816, cost 31.83419327097573 iteration 55\n",
            "m 1.0462746073431242, b 0.01724969172330578, cost 31.829592454870966 iteration 56\n",
            "m 1.0429480991153375, b 0.017246334338408182, cost 31.825913599447194 iteration 57\n",
            "m 1.0459207565770121, b 0.017331862596311, cost 31.82297157043309 iteration 58\n",
            "m 1.0432621045542085, b 0.017337927235534713, cost 31.82061840945363 iteration 59\n",
            "m 1.0456377139546258, b 0.017415028630952047, cost 31.81873586892226 iteration 60\n",
            "m 1.0435128092451273, b 0.017428622902632068, cost 31.81722944596486 iteration 61\n",
            "m 1.0454112608545958, b 0.01749898919044121, cost 31.816023614361388 iteration 62\n",
            "m 1.0437129243091645, b 0.017518600704730235, cost 31.81505801393808 iteration 63\n",
            "m 1.0452300338265001, b 0.017583583926907467, cost 31.81428440514876 iteration 64\n",
            "m 1.0438726084101126, b 0.01760800398949262, cost 31.81366423519171 iteration 65\n",
            "m 1.0450849512581242, b 0.017668684691178615, cost 31.813166692862268 iteration 66\n",
            "m 1.043999980300792, b 0.017696947319685068, cost 31.812767154001268 iteration 67\n",
            "m 1.0449687551708302, b 0.017754189067120032, cost 31.812445939105075 iteration 68\n",
            "m 1.0441015284474728, b 0.017785522253328603, cost 31.81218732041362 iteration 69\n"
          ]
        },
        {
          "ename": "TypeError",
          "evalue": "cannot unpack non-iterable NoneType object",
          "output_type": "error",
          "traceback": [
            "\u001b[1;31m---------------------------------------------------------------------------\u001b[0m",
            "\u001b[1;31mTypeError\u001b[0m                                 Traceback (most recent call last)",
            "\u001b[1;32m<ipython-input-165-f633c0b297bc>\u001b[0m in \u001b[0;36m<module>\u001b[1;34m\u001b[0m\n\u001b[1;32m----> 1\u001b[1;33m \u001b[0mm\u001b[0m\u001b[1;33m,\u001b[0m\u001b[0mb\u001b[0m \u001b[1;33m=\u001b[0m \u001b[0mgradient_descent\u001b[0m\u001b[1;33m(\u001b[0m\u001b[0mx\u001b[0m\u001b[1;33m,\u001b[0m\u001b[0my\u001b[0m\u001b[1;33m)\u001b[0m\u001b[1;33m\u001b[0m\u001b[1;33m\u001b[0m\u001b[0m\n\u001b[0m\u001b[0;32m      2\u001b[0m \u001b[0mprint\u001b[0m\u001b[1;33m(\u001b[0m\u001b[1;34m\"Using Gradient descent function: Coef{} Intercept{}\"\u001b[0m\u001b[1;33m.\u001b[0m\u001b[0mformat\u001b[0m\u001b[1;33m(\u001b[0m\u001b[0mm\u001b[0m\u001b[1;33m,\u001b[0m\u001b[0mb\u001b[0m\u001b[1;33m)\u001b[0m\u001b[1;33m)\u001b[0m\u001b[1;33m\u001b[0m\u001b[1;33m\u001b[0m\u001b[0m\n\u001b[0;32m      3\u001b[0m \u001b[1;33m\u001b[0m\u001b[0m\n\u001b[0;32m      4\u001b[0m \u001b[0mm_sklearn\u001b[0m\u001b[1;33m,\u001b[0m \u001b[0mb_sklearn\u001b[0m \u001b[1;33m=\u001b[0m \u001b[0mpredict_sklearn\u001b[0m\u001b[1;33m(\u001b[0m\u001b[1;33m)\u001b[0m\u001b[1;33m\u001b[0m\u001b[1;33m\u001b[0m\u001b[0m\n\u001b[0;32m      5\u001b[0m \u001b[0mprint\u001b[0m\u001b[1;33m(\u001b[0m\u001b[1;34m\"Using sklearn: Coef {} Intercept {}\"\u001b[0m\u001b[1;33m.\u001b[0m\u001b[0mformat\u001b[0m\u001b[1;33m(\u001b[0m\u001b[0mm_sklearn\u001b[0m\u001b[1;33m,\u001b[0m\u001b[0mb_sklearn\u001b[0m\u001b[1;33m)\u001b[0m\u001b[1;33m)\u001b[0m\u001b[1;33m\u001b[0m\u001b[1;33m\u001b[0m\u001b[0m\n",
            "\u001b[1;31mTypeError\u001b[0m: cannot unpack non-iterable NoneType object"
          ]
        }
      ],
      "source": [
        "m,b = gradient_descent(x,y)\n",
        "print(\"Using Gradient descent function: Coef{} Intercept{}\".format(m,b))\n",
        "\n",
        "m_sklearn, b_sklearn = predict_sklearn()\n",
        "print(\"Using sklearn: Coef {} Intercept {}\".format(m_sklearn,b_sklearn))"
      ]
    },
    {
      "cell_type": "code",
      "execution_count": null,
      "id": "38ceac1f",
      "metadata": {
        "id": "38ceac1f"
      },
      "outputs": [],
      "source": []
    },
    {
      "cell_type": "code",
      "execution_count": null,
      "id": "038af886",
      "metadata": {
        "id": "038af886"
      },
      "outputs": [],
      "source": []
    }
  ],
  "metadata": {
    "kernelspec": {
      "display_name": "Python 3",
      "language": "python",
      "name": "python3"
    },
    "language_info": {
      "codemirror_mode": {
        "name": "ipython",
        "version": 3
      },
      "file_extension": ".py",
      "mimetype": "text/x-python",
      "name": "python",
      "nbconvert_exporter": "python",
      "pygments_lexer": "ipython3",
      "version": "3.8.8"
    },
    "colab": {
      "provenance": [],
      "include_colab_link": true
    }
  },
  "nbformat": 4,
  "nbformat_minor": 5
}