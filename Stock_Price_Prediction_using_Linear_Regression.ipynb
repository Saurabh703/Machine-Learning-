{
  "cells": [
    {
      "cell_type": "markdown",
      "metadata": {
        "id": "view-in-github",
        "colab_type": "text"
      },
      "source": [
        "<a href=\"https://colab.research.google.com/github/Saurabh703/Machine-Learning-/blob/main/Stock_Price_Prediction_using_Linear_Regression.ipynb\" target=\"_parent\"><img src=\"https://colab.research.google.com/assets/colab-badge.svg\" alt=\"Open In Colab\"/></a>"
      ]
    },
    {
      "cell_type": "code",
      "execution_count": null,
      "id": "d9bc1420",
      "metadata": {
        "id": "d9bc1420"
      },
      "outputs": [],
      "source": [
        "import pandas as pd\n",
        "import numpy as np\n",
        "from sklearn import metrics\n",
        "%matplotlib inline\n",
        "import matplotlib.pyplot as plt"
      ]
    },
    {
      "cell_type": "code",
      "execution_count": null,
      "id": "c2bb5600",
      "metadata": {
        "id": "c2bb5600",
        "outputId": "1e1aeecf-aeff-4ac0-d1c2-3d0f1a039ce2"
      },
      "outputs": [
        {
          "data": {
            "text/html": [
              "<div>\n",
              "<style scoped>\n",
              "    .dataframe tbody tr th:only-of-type {\n",
              "        vertical-align: middle;\n",
              "    }\n",
              "\n",
              "    .dataframe tbody tr th {\n",
              "        vertical-align: top;\n",
              "    }\n",
              "\n",
              "    .dataframe thead th {\n",
              "        text-align: right;\n",
              "    }\n",
              "</style>\n",
              "<table border=\"1\" class=\"dataframe\">\n",
              "  <thead>\n",
              "    <tr style=\"text-align: right;\">\n",
              "      <th></th>\n",
              "      <th>Date</th>\n",
              "      <th>Open</th>\n",
              "      <th>High</th>\n",
              "      <th>Low</th>\n",
              "      <th>Last</th>\n",
              "      <th>Close</th>\n",
              "      <th>Total Trade Quantity</th>\n",
              "      <th>Turnover (Lacs)</th>\n",
              "    </tr>\n",
              "  </thead>\n",
              "  <tbody>\n",
              "    <tr>\n",
              "      <th>0</th>\n",
              "      <td>2018-10-08</td>\n",
              "      <td>208.00</td>\n",
              "      <td>222.25</td>\n",
              "      <td>206.85</td>\n",
              "      <td>216.00</td>\n",
              "      <td>215.15</td>\n",
              "      <td>4642146.0</td>\n",
              "      <td>10062.83</td>\n",
              "    </tr>\n",
              "    <tr>\n",
              "      <th>1</th>\n",
              "      <td>2018-10-05</td>\n",
              "      <td>217.00</td>\n",
              "      <td>218.60</td>\n",
              "      <td>205.90</td>\n",
              "      <td>210.25</td>\n",
              "      <td>209.20</td>\n",
              "      <td>3519515.0</td>\n",
              "      <td>7407.06</td>\n",
              "    </tr>\n",
              "    <tr>\n",
              "      <th>2</th>\n",
              "      <td>2018-10-04</td>\n",
              "      <td>223.50</td>\n",
              "      <td>227.80</td>\n",
              "      <td>216.15</td>\n",
              "      <td>217.25</td>\n",
              "      <td>218.20</td>\n",
              "      <td>1728786.0</td>\n",
              "      <td>3815.79</td>\n",
              "    </tr>\n",
              "    <tr>\n",
              "      <th>3</th>\n",
              "      <td>2018-10-03</td>\n",
              "      <td>230.00</td>\n",
              "      <td>237.50</td>\n",
              "      <td>225.75</td>\n",
              "      <td>226.45</td>\n",
              "      <td>227.60</td>\n",
              "      <td>1708590.0</td>\n",
              "      <td>3960.27</td>\n",
              "    </tr>\n",
              "    <tr>\n",
              "      <th>4</th>\n",
              "      <td>2018-10-01</td>\n",
              "      <td>234.55</td>\n",
              "      <td>234.60</td>\n",
              "      <td>221.05</td>\n",
              "      <td>230.30</td>\n",
              "      <td>230.90</td>\n",
              "      <td>1534749.0</td>\n",
              "      <td>3486.05</td>\n",
              "    </tr>\n",
              "  </tbody>\n",
              "</table>\n",
              "</div>"
            ],
            "text/plain": [
              "         Date    Open    High     Low    Last   Close  Total Trade Quantity  \\\n",
              "0  2018-10-08  208.00  222.25  206.85  216.00  215.15             4642146.0   \n",
              "1  2018-10-05  217.00  218.60  205.90  210.25  209.20             3519515.0   \n",
              "2  2018-10-04  223.50  227.80  216.15  217.25  218.20             1728786.0   \n",
              "3  2018-10-03  230.00  237.50  225.75  226.45  227.60             1708590.0   \n",
              "4  2018-10-01  234.55  234.60  221.05  230.30  230.90             1534749.0   \n",
              "\n",
              "   Turnover (Lacs)  \n",
              "0         10062.83  \n",
              "1          7407.06  \n",
              "2          3815.79  \n",
              "3          3960.27  \n",
              "4          3486.05  "
            ]
          },
          "execution_count": 3,
          "metadata": {},
          "output_type": "execute_result"
        }
      ],
      "source": [
        "dataset=pd.read_csv('stock_market.csv')\n",
        "dataset.head()"
      ]
    },
    {
      "cell_type": "code",
      "execution_count": null,
      "id": "fb64ffb2",
      "metadata": {
        "id": "fb64ffb2"
      },
      "outputs": [],
      "source": [
        "dataset['Date'] = pd.to_datetime(dataset.Date)"
      ]
    },
    {
      "cell_type": "code",
      "execution_count": null,
      "id": "6a38aaf7",
      "metadata": {
        "id": "6a38aaf7",
        "outputId": "43cb38b9-1af1-4544-857c-679171c6305a"
      },
      "outputs": [
        {
          "data": {
            "text/plain": [
              "(1235, 8)"
            ]
          },
          "execution_count": 5,
          "metadata": {},
          "output_type": "execute_result"
        }
      ],
      "source": [
        "dataset.shape"
      ]
    },
    {
      "cell_type": "code",
      "execution_count": null,
      "id": "b009b60f",
      "metadata": {
        "id": "b009b60f"
      },
      "outputs": [],
      "source": [
        "dataset.drop(['Total Trade Quantity','Turnover (Lacs)'],axis=1,inplace=True)"
      ]
    },
    {
      "cell_type": "code",
      "execution_count": null,
      "id": "1c786d5d",
      "metadata": {
        "id": "1c786d5d",
        "outputId": "14e0db74-c676-40a1-d737-d14122255e6c"
      },
      "outputs": [
        {
          "data": {
            "text/html": [
              "<div>\n",
              "<style scoped>\n",
              "    .dataframe tbody tr th:only-of-type {\n",
              "        vertical-align: middle;\n",
              "    }\n",
              "\n",
              "    .dataframe tbody tr th {\n",
              "        vertical-align: top;\n",
              "    }\n",
              "\n",
              "    .dataframe thead th {\n",
              "        text-align: right;\n",
              "    }\n",
              "</style>\n",
              "<table border=\"1\" class=\"dataframe\">\n",
              "  <thead>\n",
              "    <tr style=\"text-align: right;\">\n",
              "      <th></th>\n",
              "      <th>Date</th>\n",
              "      <th>Open</th>\n",
              "      <th>High</th>\n",
              "      <th>Low</th>\n",
              "      <th>Last</th>\n",
              "      <th>Close</th>\n",
              "    </tr>\n",
              "  </thead>\n",
              "  <tbody>\n",
              "    <tr>\n",
              "      <th>0</th>\n",
              "      <td>2018-10-08</td>\n",
              "      <td>208.00</td>\n",
              "      <td>222.25</td>\n",
              "      <td>206.85</td>\n",
              "      <td>216.00</td>\n",
              "      <td>215.15</td>\n",
              "    </tr>\n",
              "    <tr>\n",
              "      <th>1</th>\n",
              "      <td>2018-10-05</td>\n",
              "      <td>217.00</td>\n",
              "      <td>218.60</td>\n",
              "      <td>205.90</td>\n",
              "      <td>210.25</td>\n",
              "      <td>209.20</td>\n",
              "    </tr>\n",
              "    <tr>\n",
              "      <th>2</th>\n",
              "      <td>2018-10-04</td>\n",
              "      <td>223.50</td>\n",
              "      <td>227.80</td>\n",
              "      <td>216.15</td>\n",
              "      <td>217.25</td>\n",
              "      <td>218.20</td>\n",
              "    </tr>\n",
              "    <tr>\n",
              "      <th>3</th>\n",
              "      <td>2018-10-03</td>\n",
              "      <td>230.00</td>\n",
              "      <td>237.50</td>\n",
              "      <td>225.75</td>\n",
              "      <td>226.45</td>\n",
              "      <td>227.60</td>\n",
              "    </tr>\n",
              "    <tr>\n",
              "      <th>4</th>\n",
              "      <td>2018-10-01</td>\n",
              "      <td>234.55</td>\n",
              "      <td>234.60</td>\n",
              "      <td>221.05</td>\n",
              "      <td>230.30</td>\n",
              "      <td>230.90</td>\n",
              "    </tr>\n",
              "  </tbody>\n",
              "</table>\n",
              "</div>"
            ],
            "text/plain": [
              "        Date    Open    High     Low    Last   Close\n",
              "0 2018-10-08  208.00  222.25  206.85  216.00  215.15\n",
              "1 2018-10-05  217.00  218.60  205.90  210.25  209.20\n",
              "2 2018-10-04  223.50  227.80  216.15  217.25  218.20\n",
              "3 2018-10-03  230.00  237.50  225.75  226.45  227.60\n",
              "4 2018-10-01  234.55  234.60  221.05  230.30  230.90"
            ]
          },
          "execution_count": 7,
          "metadata": {},
          "output_type": "execute_result"
        }
      ],
      "source": [
        "dataset.head()"
      ]
    },
    {
      "cell_type": "code",
      "execution_count": null,
      "id": "53f3cd5c",
      "metadata": {
        "id": "53f3cd5c",
        "outputId": "1b678aab-ccea-4167-bfaf-79f6bd4e7ca9"
      },
      "outputs": [
        {
          "data": {
            "text/plain": [
              "Date     0\n",
              "Open     0\n",
              "High     0\n",
              "Low      0\n",
              "Last     0\n",
              "Close    0\n",
              "dtype: int64"
            ]
          },
          "execution_count": 8,
          "metadata": {},
          "output_type": "execute_result"
        }
      ],
      "source": [
        "dataset.isnull().sum()"
      ]
    },
    {
      "cell_type": "code",
      "execution_count": null,
      "id": "978e03e4",
      "metadata": {
        "id": "978e03e4",
        "outputId": "548a5f53-e136-41af-bd96-72a4400c0aea"
      },
      "outputs": [
        {
          "data": {
            "text/plain": [
              "Date     False\n",
              "Open     False\n",
              "High     False\n",
              "Low      False\n",
              "Last     False\n",
              "Close    False\n",
              "dtype: bool"
            ]
          },
          "execution_count": 9,
          "metadata": {},
          "output_type": "execute_result"
        }
      ],
      "source": [
        "dataset.isna().any()"
      ]
    },
    {
      "cell_type": "code",
      "execution_count": null,
      "id": "991cd701",
      "metadata": {
        "id": "991cd701",
        "outputId": "14795102-ec5d-484b-f5ad-feee57f08e6d"
      },
      "outputs": [
        {
          "data": {
            "text/plain": [
              "<AxesSubplot:>"
            ]
          },
          "execution_count": 11,
          "metadata": {},
          "output_type": "execute_result"
        },
        {
          "data": {
            "image/png": "[encoded data removed]",
            "text/plain": [
              "<Figure size 864x432 with 1 Axes>"
            ]
          },
          "metadata": {
            "needs_background": "light"
          },
          "output_type": "display_data"
        }
      ],
      "source": [
        "dataset['Open'].plot(figsize=(12,6))"
      ]
    },
    {
      "cell_type": "code",
      "execution_count": null,
      "id": "aa976e4a",
      "metadata": {
        "id": "aa976e4a"
      },
      "outputs": [],
      "source": [
        "X = dataset[['Open','High','Low','Last']]\n",
        "y = dataset['Close']"
      ]
    },
    {
      "cell_type": "code",
      "execution_count": null,
      "id": "aafa605b",
      "metadata": {
        "id": "aafa605b"
      },
      "outputs": [],
      "source": [
        "from sklearn.model_selection import train_test_split\n",
        "X_train, X_test, y_train, y_test = train_test_split(X, y, test_size=0.3,random_state=0)"
      ]
    },
    {
      "cell_type": "code",
      "execution_count": null,
      "id": "64be677d",
      "metadata": {
        "id": "64be677d",
        "outputId": "f8d05516-e2ff-4fb4-ad62-363f9c584298"
      },
      "outputs": [
        {
          "data": {
            "text/plain": [
              "(864, 4)"
            ]
          },
          "execution_count": 16,
          "metadata": {},
          "output_type": "execute_result"
        }
      ],
      "source": [
        "X_train.shape"
      ]
    },
    {
      "cell_type": "code",
      "execution_count": null,
      "id": "044d31b4",
      "metadata": {
        "id": "044d31b4",
        "outputId": "4a946500-ccd5-4ff9-9b9f-d2e44722410a"
      },
      "outputs": [
        {
          "data": {
            "text/plain": [
              "(371, 4)"
            ]
          },
          "execution_count": 17,
          "metadata": {},
          "output_type": "execute_result"
        }
      ],
      "source": [
        "X_test.shape"
      ]
    },
    {
      "cell_type": "code",
      "execution_count": null,
      "id": "a8399749",
      "metadata": {
        "id": "a8399749"
      },
      "outputs": [],
      "source": [
        "from sklearn.linear_model import LinearRegression\n",
        "from sklearn.metrics import confusion_matrix\n",
        "regression = LinearRegression()"
      ]
    },
    {
      "cell_type": "code",
      "execution_count": null,
      "id": "c7d89f6e",
      "metadata": {
        "id": "c7d89f6e",
        "outputId": "58abf814-c63b-4753-d7ec-930085e60e73"
      },
      "outputs": [
        {
          "data": {
            "text/plain": [
              "LinearRegression()"
            ]
          },
          "execution_count": 19,
          "metadata": {},
          "output_type": "execute_result"
        }
      ],
      "source": [
        "regression.fit(X_train, y_train)"
      ]
    },
    {
      "cell_type": "code",
      "execution_count": null,
      "id": "94955988",
      "metadata": {
        "id": "94955988",
        "outputId": "3a314932-efef-45de-a7a7-1789e50a1d02"
      },
      "outputs": [
        {
          "name": "stdout",
          "output_type": "stream",
          "text": [
            "[-0.06398777  0.0893093   0.08567167  0.88808084]\n"
          ]
        }
      ],
      "source": [
        "print(regression.coef_)"
      ]
    },
    {
      "cell_type": "code",
      "execution_count": null,
      "id": "18beca64",
      "metadata": {
        "id": "18beca64",
        "outputId": "1800d3c5-b88f-4c3c-93b1-26a584517839"
      },
      "outputs": [
        {
          "name": "stdout",
          "output_type": "stream",
          "text": [
            "0.12479122859548397\n"
          ]
        }
      ],
      "source": [
        "print(regression.intercept_)"
      ]
    },
    {
      "cell_type": "code",
      "execution_count": null,
      "id": "191f1b64",
      "metadata": {
        "id": "191f1b64"
      },
      "outputs": [],
      "source": [
        "predicted = regression.predict(X_test)"
      ]
    },
    {
      "cell_type": "code",
      "execution_count": null,
      "id": "12f19faa",
      "metadata": {
        "id": "12f19faa",
        "outputId": "a7628c9e-e69e-4e1a-80ec-078746eecd96"
      },
      "outputs": [
        {
          "name": "stdout",
          "output_type": "stream",
          "text": [
            "        Open    High     Low    Last\n",
            "1083  152.95  154.85  151.05  153.35\n",
            "18    221.00  224.50  219.10  223.15\n",
            "1099  156.50  157.00  151.85  153.00\n",
            "818   132.95  133.90  132.30  133.20\n",
            "184   314.65  319.20  312.20  317.45\n",
            "...      ...     ...     ...     ...\n",
            "946   156.00  157.20  154.40  155.35\n",
            "200   288.00  288.25  279.20  284.50\n",
            "875   148.00  149.40  147.75  149.00\n",
            "65    271.00  273.10  263.25  264.50\n",
            "638   115.65  117.50  114.55  116.70\n",
            "\n",
            "[371 rows x 4 columns]\n"
          ]
        }
      ],
      "source": [
        "print(X_test)"
      ]
    },
    {
      "cell_type": "code",
      "execution_count": null,
      "id": "49455fb9",
      "metadata": {
        "id": "49455fb9"
      },
      "outputs": [],
      "source": [
        "predicted = regression.predict(X_test)"
      ]
    },
    {
      "cell_type": "code",
      "execution_count": null,
      "id": "bfc62cda",
      "metadata": {
        "id": "bfc62cda",
        "outputId": "9bb619be-a1d6-4850-a609-1cf67ce71903"
      },
      "outputs": [
        {
          "name": "stdout",
          "output_type": "stream",
          "text": [
            "        Open    High     Low    Last\n",
            "1083  152.95  154.85  151.05  153.35\n",
            "18    221.00  224.50  219.10  223.15\n",
            "1099  156.50  157.00  151.85  153.00\n",
            "818   132.95  133.90  132.30  133.20\n",
            "184   314.65  319.20  312.20  317.45\n",
            "...      ...     ...     ...     ...\n",
            "946   156.00  157.20  154.40  155.35\n",
            "200   288.00  288.25  279.20  284.50\n",
            "875   148.00  149.40  147.75  149.00\n",
            "65    271.00  273.10  263.25  264.50\n",
            "638   115.65  117.50  114.55  116.70\n",
            "\n",
            "[371 rows x 4 columns]\n"
          ]
        }
      ],
      "source": [
        "print(X_test)"
      ]
    },
    {
      "cell_type": "code",
      "execution_count": null,
      "id": "cd3fa7d2",
      "metadata": {
        "id": "cd3fa7d2",
        "outputId": "3c26171e-5628-4027-dac2-fb27c0968b79"
      },
      "outputs": [
        {
          "data": {
            "text/plain": [
              "(371,)"
            ]
          },
          "execution_count": 26,
          "metadata": {},
          "output_type": "execute_result"
        }
      ],
      "source": [
        "predicted.shape"
      ]
    },
    {
      "cell_type": "code",
      "execution_count": null,
      "id": "8d08eae2",
      "metadata": {
        "id": "8d08eae2"
      },
      "outputs": [],
      "source": [
        "dframe = pd.DataFrame(y_test, predicted)"
      ]
    },
    {
      "cell_type": "code",
      "execution_count": null,
      "id": "dd99aca6",
      "metadata": {
        "id": "dd99aca6"
      },
      "outputs": [],
      "source": [
        "dfr = pd.DataFrame({'Actual':y_test, 'Predicted': predicted})"
      ]
    },
    {
      "cell_type": "code",
      "execution_count": null,
      "id": "a297cf3d",
      "metadata": {
        "id": "a297cf3d",
        "outputId": "9905a160-b2c9-4a5d-a8d5-b3d26d02d954"
      },
      "outputs": [
        {
          "name": "stdout",
          "output_type": "stream",
          "text": [
            "      Actual   Predicted\n",
            "1083  153.45  153.295308\n",
            "18    222.95  222.979333\n",
            "1099  152.95  153.017876\n",
            "818   132.60  133.202861\n",
            "184   317.60  317.166524\n",
            "...      ...         ...\n",
            "946   155.65  155.373184\n",
            "200   284.30  284.018247\n",
            "875   149.00  148.979444\n",
            "65    264.45  264.624923\n",
            "638   116.85  116.671171\n",
            "\n",
            "[371 rows x 2 columns]\n"
          ]
        }
      ],
      "source": [
        "print(dfr)"
      ]
    },
    {
      "cell_type": "code",
      "execution_count": null,
      "id": "9b9f786e",
      "metadata": {
        "id": "9b9f786e"
      },
      "outputs": [],
      "source": [
        "from sklearn.metrics import confusion_matrix, accuracy_score"
      ]
    },
    {
      "cell_type": "code",
      "execution_count": null,
      "id": "acba5dd3",
      "metadata": {
        "id": "acba5dd3",
        "outputId": "ed4220a0-b882-4aa8-af46-dadc7bf5379e"
      },
      "outputs": [
        {
          "data": {
            "text/plain": [
              "0.9999340876966673"
            ]
          },
          "execution_count": 31,
          "metadata": {},
          "output_type": "execute_result"
        }
      ],
      "source": [
        "regression.score(X_test,y_test)"
      ]
    },
    {
      "cell_type": "code",
      "execution_count": null,
      "id": "419a4b01",
      "metadata": {
        "id": "419a4b01"
      },
      "outputs": [],
      "source": [
        "import math"
      ]
    },
    {
      "cell_type": "code",
      "execution_count": null,
      "id": "f12b34ee",
      "metadata": {
        "id": "f12b34ee",
        "outputId": "68e892df-d426-4a30-9a5b-7e0733d97e00"
      },
      "outputs": [
        {
          "name": "stdout",
          "output_type": "stream",
          "text": [
            "Mean Absolute Error: 0.29507229057545664\n"
          ]
        }
      ],
      "source": [
        "print('Mean Absolute Error:', metrics.mean_absolute_error(y_test, predicted))"
      ]
    },
    {
      "cell_type": "code",
      "execution_count": null,
      "id": "33158ea4",
      "metadata": {
        "id": "33158ea4",
        "outputId": "4bc83811-51d0-4139-eaed-488d6e14d34a"
      },
      "outputs": [
        {
          "name": "stdout",
          "output_type": "stream",
          "text": [
            "Mean Squared Error: 0.16288761987681696\n"
          ]
        }
      ],
      "source": [
        "print('Mean Squared Error:', metrics.mean_squared_error(y_test, predicted))"
      ]
    },
    {
      "cell_type": "code",
      "execution_count": null,
      "id": "58509fb2",
      "metadata": {
        "id": "58509fb2",
        "outputId": "81f02c66-8ebf-4082-d294-0dd6dc32a68e"
      },
      "outputs": [
        {
          "name": "stdout",
          "output_type": "stream",
          "text": [
            "Root Mean Squared Error: 0.4035933843323215\n"
          ]
        }
      ],
      "source": [
        "print('Root Mean Squared Error:', math.sqrt(metrics.mean_squared_error(y_test, predicted)))"
      ]
    },
    {
      "cell_type": "code",
      "execution_count": null,
      "id": "321ba766",
      "metadata": {
        "id": "321ba766"
      },
      "outputs": [],
      "source": [
        "graph = dfr.head(30)"
      ]
    },
    {
      "cell_type": "code",
      "execution_count": null,
      "id": "1aef1dc8",
      "metadata": {
        "id": "1aef1dc8",
        "outputId": "b1f1a710-808d-47f2-f3d4-ef344a2f0a1f"
      },
      "outputs": [
        {
          "data": {
            "text/plain": [
              "<AxesSubplot:>"
            ]
          },
          "execution_count": 46,
          "metadata": {},
          "output_type": "execute_result"
        },
        {
          "data": {
            "image/png": "[encoded data removed]",
            "text/plain": [
              "<Figure size 432x288 with 1 Axes>"
            ]
          },
          "metadata": {
            "needs_background": "light"
          },
          "output_type": "display_data"
        }
      ],
      "source": [
        "graph.plot(kind='bar')"
      ]
    },
    {
      "cell_type": "code",
      "execution_count": null,
      "id": "43660393",
      "metadata": {
        "id": "43660393"
      },
      "outputs": [],
      "source": []
    }
  ],
  "metadata": {
    "kernelspec": {
      "display_name": "Python 3",
      "language": "python",
      "name": "python3"
    },
    "language_info": {
      "codemirror_mode": {
        "name": "ipython",
        "version": 3
      },
      "file_extension": ".py",
      "mimetype": "text/x-python",
      "name": "python",
      "nbconvert_exporter": "python",
      "pygments_lexer": "ipython3",
      "version": "3.8.8"
    },
    "colab": {
      "provenance": [],
      "include_colab_link": true
    }
  },
  "nbformat": 4,
  "nbformat_minor": 5
}